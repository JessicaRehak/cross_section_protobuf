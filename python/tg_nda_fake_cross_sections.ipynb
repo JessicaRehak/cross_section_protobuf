{
 "cells": [
  {
   "cell_type": "markdown",
   "metadata": {},
   "source": [
    "# Fake Cross-section problem for TG Testing"
   ]
  },
  {
   "cell_type": "code",
   "execution_count": 1,
   "metadata": {},
   "outputs": [],
   "source": [
    "import material_pb2 as mat\n",
    "import numpy as np"
   ]
  },
  {
   "cell_type": "markdown",
   "metadata": {},
   "source": [
    "Energy groups and $\\chi$"
   ]
  },
  {
   "cell_type": "code",
   "execution_count": 2,
   "metadata": {},
   "outputs": [],
   "source": [
    "energy_groups = [2e7, 1.353e6, 9.119e3, 3.928, 0.6251, 0.1457, 0.0569, 0]\n",
    "normalized_chi = [0.5, 0.25, 0.25, 0, 0, 0, 0]"
   ]
  },
  {
   "cell_type": "markdown",
   "metadata": {},
   "source": [
    "Base location to save files:"
   ]
  },
  {
   "cell_type": "code",
   "execution_count": 3,
   "metadata": {},
   "outputs": [],
   "source": [
    "folder = \"/home/josh/repos/bart/benchmarks/tgnda_fake_cross_sections/\""
   ]
  },
  {
   "cell_type": "code",
   "execution_count": 4,
   "metadata": {},
   "outputs": [],
   "source": [
    "def make_material(name, sigma_t, sigma_s, is_fissionable, nu_sig_f):\n",
    "    material = mat.Material()\n",
    "    material.full_name = name\n",
    "    material.id = name\n",
    "    material.abbreviation = name\n",
    "    material.is_fissionable = is_fissionable\n",
    "    material.number_of_groups = 7\n",
    "\n",
    "    eg = mat.Material.VectorProperty()\n",
    "    eg.id = mat.Material.ENERGY_GROUPS\n",
    "    eg.value.extend(energy_groups)\n",
    "\n",
    "    material_sigma_t = mat.Material.VectorProperty()\n",
    "    material_sigma_t.id = mat.Material.SIGMA_T\n",
    "    material_sigma_t.value.extend(sigma_t)\n",
    "\n",
    "    diff = mat.Material.VectorProperty()\n",
    "    diff.id = mat.Material.DIFFUSION_COEFF\n",
    "    diff.value.extend([1.0/(3.0 * val) for val in sigma_t])\n",
    "\n",
    "    if is_fissionable:\n",
    "        nsf = mat.Material.VectorProperty()\n",
    "        nsf.id = mat.Material.NU_SIG_F\n",
    "        nsf.value.extend(nu_sig_f)\n",
    "\n",
    "        chi = mat.Material.VectorProperty()\n",
    "        chi.id = mat.Material.CHI\n",
    "        chi.value.extend(normalized_chi)\n",
    "\n",
    "    material_sigma_s = mat.Material.MatrixProperty()\n",
    "    material_sigma_s.id = mat.Material.SIGMA_S\n",
    "    material_sigma_s.value.extend(sigma_s)\n",
    "\n",
    "    if is_fissionable:\n",
    "        material.vector_property.extend([eg, material_sigma_t, nsf, chi, diff])\n",
    "    else:\n",
    "        material.vector_property.extend([eg, material_sigma_t, diff])\n",
    "    material.matrix_property.extend([material_sigma_s])\n",
    "\n",
    "    filename = folder + name + \".material\"\n",
    "    f = open(filename, 'wb')\n",
    "    f.write(material.SerializeToString())\n",
    "    f.close()"
   ]
  },
  {
   "cell_type": "markdown",
   "metadata": {},
   "source": [
    "----\n",
    "## Materials"
   ]
  },
  {
   "cell_type": "markdown",
   "metadata": {},
   "source": [
    "### High scattering fissionable material"
   ]
  },
  {
   "cell_type": "code",
   "execution_count": 8,
   "metadata": {},
   "outputs": [],
   "source": [
    "name = \"high_scattering_fissionable\"\n",
    "sigma_t = [1, 1, 1, 1, 1, 1, 1]\n",
    "\n",
    "sigma_s = np.array([[0.499, 0,    0,    0,    0,    0,    0],\n",
    "                    [0.25, 0.499, 0,    0,    0,    0,    0],\n",
    "                    [0.25, 0.499, 0.459, 0,    0,    0,    0],\n",
    "                    [0,    0,    0.24, 0.3,  0.29, 0.25,  0.2],\n",
    "                    [0,    0,    0.1,  0.23,  0.3,  0.24,  0.2],\n",
    "                    [0,    0,    0.1,  0.23,  0.2,  0.3 , 0.2],\n",
    "                    [0,    0,    0.1,  0.23,  0.2,  0.2,  0.3]])\n",
    "\n",
    "nu = 2\n",
    "nu_sig_f = []\n",
    "\n",
    "for group in range(7):\n",
    "    sigma_s[:,group] *= sigma_t[group] * 0.5\n",
    "    sigma_a = sigma_t[group] - np.sum(sigma_s[:,group])\n",
    "    nu_sig_f.append(nu * 0.95*sigma_a)\n",
    "\n",
    "sigma_s_list = []\n",
    "for row in sigma_s:\n",
    "    for val in row:\n",
    "        sigma_s_list.append(val)\n",
    "    \n",
    "make_material(name, sigma_t, sigma_s_list, True, nu_sig_f)"
   ]
  },
  {
   "cell_type": "markdown",
   "metadata": {},
   "source": [
    "### Non-fissionable reflector"
   ]
  },
  {
   "cell_type": "code",
   "execution_count": 6,
   "metadata": {},
   "outputs": [],
   "source": [
    "name = \"high_scattering_reflector\"\n",
    "sigma_t = [1, 1, 1, 1, 1, 1, 1]\n",
    "\n",
    "sigma_s = np.array([[0.499, 0,    0,    0,    0,    0,    0],\n",
    "                    [0.25, 0.499, 0,    0,    0,    0,    0],\n",
    "                    [0.25, 0.499, 0.459, 0,    0,    0,    0],\n",
    "                    [0,    0,    0.24, 0.3,  0.29, 0.25,  0.23],\n",
    "                    [0,    0,    0.1,  0.23,  0.3,  0.24,  0.23],\n",
    "                    [0,    0,    0.1,  0.23,  0.2,  0.3 , 0.23],\n",
    "                    [0,    0,    0.1,  0.23,  0.2,  0.2,  0.3]])\n",
    "\n",
    "for group in range(7):\n",
    "    sigma_s[:,group] *= sigma_t[group]\n",
    "    sigma_a = sigma_t[group] - np.sum(sigma_s[:,group])\n",
    "\n",
    "sigma_s_list = []\n",
    "for row in sigma_s:\n",
    "    for val in row:\n",
    "        sigma_s_list.append(val)\n",
    "    \n",
    "make_material(name, sigma_t, sigma_s_list, False, [])"
   ]
  },
  {
   "cell_type": "code",
   "execution_count": null,
   "metadata": {},
   "outputs": [],
   "source": []
  }
 ],
 "metadata": {
  "kernelspec": {
   "display_name": "Python 3",
   "language": "python",
   "name": "python3"
  },
  "language_info": {
   "codemirror_mode": {
    "name": "ipython",
    "version": 3
   },
   "file_extension": ".py",
   "mimetype": "text/x-python",
   "name": "python",
   "nbconvert_exporter": "python",
   "pygments_lexer": "ipython3",
   "version": "3.7.4"
  }
 },
 "nbformat": 4,
 "nbformat_minor": 2
}
