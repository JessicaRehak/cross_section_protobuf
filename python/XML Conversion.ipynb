{
 "cells": [
  {
   "cell_type": "markdown",
   "metadata": {},
   "source": [
    "# XML Conversion of a Material\n",
    "\n",
    "This will walk through the process of converting an XML material file in the provided format into a protocol buffer `Material` message. This will only work on the XML files that we generated for BART-Lite, contained in `/lib/kaist/xml`"
   ]
  },
  {
   "cell_type": "markdown",
   "metadata": {},
   "source": [
    "# Step 1: Parse XML File"
   ]
  },
  {
   "cell_type": "markdown",
   "metadata": {},
   "source": [
    "This requires use of the `xml.etree` library which allows us to parse the XML file automatically."
   ]
  },
  {
   "cell_type": "code",
   "execution_count": 1,
   "metadata": {
    "collapsed": true
   },
   "outputs": [],
   "source": [
    "import xml.etree.cElementTree as ET"
   ]
  },
  {
   "cell_type": "markdown",
   "metadata": {},
   "source": [
    "Now get one of the XML files, in this case we will be converting file `uo2_33.xml`"
   ]
  },
  {
   "cell_type": "code",
   "execution_count": 2,
   "metadata": {
    "collapsed": true
   },
   "outputs": [],
   "source": [
    "filename = \"../lib/kaist/xml/uo2_33.xml\""
   ]
  },
  {
   "cell_type": "markdown",
   "metadata": {},
   "source": [
    "Make a dictionary to hold all the data we are going to extract:"
   ]
  },
  {
   "cell_type": "code",
   "execution_count": 3,
   "metadata": {
    "collapsed": true
   },
   "outputs": [],
   "source": [
    "data = {}"
   ]
  },
  {
   "cell_type": "markdown",
   "metadata": {},
   "source": [
    "Parse the XML in the file by getting the root."
   ]
  },
  {
   "cell_type": "code",
   "execution_count": 4,
   "metadata": {
    "collapsed": true
   },
   "outputs": [],
   "source": [
    "root = ET.parse(filename).getroot()"
   ]
  },
  {
   "cell_type": "markdown",
   "metadata": {},
   "source": [
    "Get the `<name>` and `<id>` XML fields that are on the top level and store them in `data`. Also get the `<prop>` root that will hold physical properties, and `<grp_structures>` which will have cross-sections."
   ]
  },
  {
   "cell_type": "code",
   "execution_count": 5,
   "metadata": {
    "collapsed": true
   },
   "outputs": [],
   "source": [
    "for el in root.findall('./material/'):\n",
    "    if el.tag == \"prop\":\n",
    "        prop_root = el\n",
    "    elif el.tag == \"grp_structures\":\n",
    "        grp_structs = el\n",
    "    else:\n",
    "        data.update({el.tag: el.text})"
   ]
  },
  {
   "cell_type": "code",
   "execution_count": 6,
   "metadata": {
    "collapsed": false
   },
   "outputs": [
    {
     "data": {
      "text/plain": [
       "{'id': 'uo2_33', 'name': 'UO2 3.3% fuel cell'}"
      ]
     },
     "execution_count": 6,
     "metadata": {},
     "output_type": "execute_result"
    }
   ],
   "source": [
    "data"
   ]
  },
  {
   "cell_type": "markdown",
   "metadata": {},
   "source": [
    "Now we will get the values of $\\chi$, $\\Sigma_t$, $\\Sigma_a$, etc, which are all vector quantities so we will store them in a list. The parser automatically parses everything as a string so they'll need to be converted into floats. There's only one tag in `grp_structs`, which is `<grp_struct>`, that has `<energy_groups>`, `<chi>`, and `<xsec>` that holds the cross-sections. We will extract the data from these and save the one matrix quantity `<sig_s>` for next:"
   ]
  },
  {
   "cell_type": "code",
   "execution_count": 7,
   "metadata": {
    "collapsed": false
   },
   "outputs": [
    {
     "name": "stdout",
     "output_type": "stream",
     "text": [
      "{'name': 'UO2 3.3% fuel cell', 'id': 'uo2_33', 'energy_groups': [20000000.0, 1353000.0, 9119.0, 3.928, 0.6251, 0.1457, 0.05692, 0.0], 'chi': [0.59252, 0.40714, 0.00033193, 0.0, 0.0, 0.0, 0.0]}\n"
     ]
    }
   ],
   "source": [
    "for el in grp_structs[0]:\n",
    "    if el.tag == \"chi\":\n",
    "        data.update({\"chi\": [float(v) for v in el.text.split(',')]})\n",
    "    elif el.tag == \"energy_groups\":\n",
    "        data.update({\"energy_groups\": [float(v) for v in el.text.split(',')]})\n",
    "    elif el.tag == \"xsec\":\n",
    "        xsec_root = el\n",
    "print(data) # Check that we got the right values"
   ]
  },
  {
   "cell_type": "code",
   "execution_count": 8,
   "metadata": {
    "collapsed": false
   },
   "outputs": [
    {
     "name": "stdout",
     "output_type": "stream",
     "text": [
      "{'name': 'UO2 3.3% fuel cell', 'id': 'uo2_33', 'energy_groups': [20000000.0, 1353000.0, 9119.0, 3.928, 0.6251, 0.1457, 0.05692, 0.0], 'chi': [0.59252, 0.40714, 0.00033193, 0.0, 0.0, 0.0, 0.0], 'sig_t': [0.11113, 0.28844, 0.45382, 0.46398, 0.68795, 0.98919, 1.6809], 'sig_a': [0.0047825, 0.0020899, 0.02669, 0.018674, 0.060669, 0.09879, 0.18302], 'nu_sig_f': [0.011458, 0.001054, 0.0123, 0.022601, 0.095993, 0.15886, 0.29556], 'kappa_sig_f': [1.3977e-13, 1.3885e-14, 1.6387e-13, 3.011e-13, 1.2789e-12, 2.1164e-12, 3.9375e-12]}\n"
     ]
    }
   ],
   "source": [
    "for el in xsec_root:\n",
    "    if el.tag == \"sig_s\":\n",
    "        sig_s_root = el\n",
    "    else:\n",
    "        data.update({el.tag: [float(v) for v in el.text.split(',')]})\n",
    "print(data)"
   ]
  },
  {
   "cell_type": "markdown",
   "metadata": {},
   "source": [
    "The matrix quantity needs to be flatted into a single list using a bunch of string manipulations."
   ]
  },
  {
   "cell_type": "code",
   "execution_count": 9,
   "metadata": {
    "collapsed": false
   },
   "outputs": [
    {
     "name": "stdout",
     "output_type": "stream",
     "text": [
      "[0.12239000000000001, 0.06713, 0.0002876, 0.0, 0.0, 0.0, 0.0, 0.0, 0.42991999999999997, 0.051655999999999994, 0.0, 0.0, 0.0, 0.0, 0.0, 0.0, 0.74242, 0.048867, 0.0068715, 0.0012435, 0.00076773, 0.0, 0.0, 0.0, 0.54727, 0.19917, 0.027343, 0.012226, 0.0, 0.0, 0.0, 0.0047185000000000005, 0.6695, 0.20942, 0.065028, 0.0, 0.0, 0.0, 0.0, 0.14190999999999998, 0.80934, 0.25445, 0.0, 0.0, 0.0, 0.0, 0.05942000000000001, 0.41229, 1.3222]\n"
     ]
    }
   ],
   "source": [
    "data.update({\"sig_s\": [float(v) for v in sig_s_root.text.replace('\\n\\t','').replace(';',',').split(',')]})\n",
    "print(data[\"sig_s\"])"
   ]
  },
  {
   "cell_type": "markdown",
   "metadata": {},
   "source": [
    "We now have a `data` dictionary with all the data from the XML file:"
   ]
  },
  {
   "cell_type": "code",
   "execution_count": 10,
   "metadata": {
    "collapsed": false
   },
   "outputs": [
    {
     "name": "stdout",
     "output_type": "stream",
     "text": [
      "{'name': 'UO2 3.3% fuel cell', 'id': 'uo2_33', 'energy_groups': [20000000.0, 1353000.0, 9119.0, 3.928, 0.6251, 0.1457, 0.05692, 0.0], 'chi': [0.59252, 0.40714, 0.00033193, 0.0, 0.0, 0.0, 0.0], 'sig_t': [0.11113, 0.28844, 0.45382, 0.46398, 0.68795, 0.98919, 1.6809], 'sig_a': [0.0047825, 0.0020899, 0.02669, 0.018674, 0.060669, 0.09879, 0.18302], 'nu_sig_f': [0.011458, 0.001054, 0.0123, 0.022601, 0.095993, 0.15886, 0.29556], 'kappa_sig_f': [1.3977e-13, 1.3885e-14, 1.6387e-13, 3.011e-13, 1.2789e-12, 2.1164e-12, 3.9375e-12], 'sig_s': [0.12239000000000001, 0.06713, 0.0002876, 0.0, 0.0, 0.0, 0.0, 0.0, 0.42991999999999997, 0.051655999999999994, 0.0, 0.0, 0.0, 0.0, 0.0, 0.0, 0.74242, 0.048867, 0.0068715, 0.0012435, 0.00076773, 0.0, 0.0, 0.0, 0.54727, 0.19917, 0.027343, 0.012226, 0.0, 0.0, 0.0, 0.0047185000000000005, 0.6695, 0.20942, 0.065028, 0.0, 0.0, 0.0, 0.0, 0.14190999999999998, 0.80934, 0.25445, 0.0, 0.0, 0.0, 0.0, 0.05942000000000001, 0.41229, 1.3222]}\n"
     ]
    }
   ],
   "source": [
    "print(data)"
   ]
  },
  {
   "cell_type": "markdown",
   "metadata": {
    "collapsed": true
   },
   "source": [
    "# Step 2: Store in Protocol Buffer"
   ]
  },
  {
   "cell_type": "markdown",
   "metadata": {},
   "source": [
    "**OPTIONAL**: Recompiple protocol buffer"
   ]
  },
  {
   "cell_type": "code",
   "execution_count": 4,
   "metadata": {
    "collapsed": false
   },
   "outputs": [],
   "source": [
    "!protoc --python_out=./proto -I=../proto ../proto/material.proto "
   ]
  },
  {
   "cell_type": "markdown",
   "metadata": {},
   "source": [
    "Import the created library:"
   ]
  },
  {
   "cell_type": "code",
   "execution_count": 5,
   "metadata": {
    "collapsed": false
   },
   "outputs": [],
   "source": [
    "import proto.material_pb2 as mat_proto"
   ]
  },
  {
   "cell_type": "markdown",
   "metadata": {},
   "source": [
    "Although the top level is `Library` meant for holding multiple materials, we can make _just_ a material and store it in it's own file, this is what we will do here. As the library holds data about the group structure, we will need to make sure we indicate the group structure in the name of the material in case we forget.\n",
    "\n",
    "Step 1, make a new material. `Material` is a `message` so it is an object in python."
   ]
  },
  {
   "cell_type": "code",
   "execution_count": 13,
   "metadata": {
    "collapsed": false
   },
   "outputs": [],
   "source": [
    "uo2_33 = mat_proto.Material() #Create a new Material object"
   ]
  },
  {
   "cell_type": "markdown",
   "metadata": {},
   "source": [
    "Store the upper level data in the material."
   ]
  },
  {
   "cell_type": "code",
   "execution_count": 14,
   "metadata": {
    "collapsed": false
   },
   "outputs": [
    {
     "data": {
      "text/plain": [
       "full_name: \"UO2 3.3% fuel cell\"\n",
       "abbreviation: \"uo2_33\"\n",
       "id: \"uo2_33\""
      ]
     },
     "execution_count": 14,
     "metadata": {},
     "output_type": "execute_result"
    }
   ],
   "source": [
    "uo2_33.full_name = data[\"name\"]\n",
    "uo2_33.id = data[\"id\"]\n",
    "uo2_33.abbreviation = data[\"id\"]\n",
    "uo2_33"
   ]
  },
  {
   "cell_type": "markdown",
   "metadata": {},
   "source": [
    "We have no scalar properties (like density, etc) for this material, but we have vector quantities. We will store them in `VectorProperty` objects. Their ID is given in an `enum` called `VectorId`. If there is no corresponding one, they need to be added at the protobuf recompiled. Here, I make a mapping from the keys in `data` to the id's for easy looping:"
   ]
  },
  {
   "cell_type": "code",
   "execution_count": 15,
   "metadata": {
    "collapsed": false
   },
   "outputs": [],
   "source": [
    "key_map = {\"energy_groups\": mat_proto.Material.ENERGY_GROUPS,\n",
    "          \"sig_t\": mat_proto.Material.SIGMA_T,\n",
    "          \"sig_a\": mat_proto.Material.SIGMA_A,\n",
    "          \"chi\": mat_proto.Material.CHI,\n",
    "          \"nu_sig_f\": mat_proto.Material.NU_SIG_F,\n",
    "          \"kappa_sig_f\": mat_proto.Material.KAPPA_SIG_F}"
   ]
  },
  {
   "cell_type": "code",
   "execution_count": 16,
   "metadata": {
    "collapsed": false
   },
   "outputs": [],
   "source": [
    "vector_properties = []\n",
    "for key, value in key_map.items():\n",
    "    vector_prop = mat_proto.Material.VectorProperty()\n",
    "    vector_prop.id = value\n",
    "    vector_prop.value.extend(data[key])\n",
    "    #print(vector_prop) # printed first to make sure it worked\n",
    "    vector_properties.append(vector_prop)"
   ]
  },
  {
   "cell_type": "markdown",
   "metadata": {},
   "source": [
    "Add the list of vector properties to `uo2_33`:"
   ]
  },
  {
   "cell_type": "code",
   "execution_count": 17,
   "metadata": {
    "collapsed": true
   },
   "outputs": [],
   "source": [
    "uo2_33.vector_property.extend(vector_properties)"
   ]
  },
  {
   "cell_type": "markdown",
   "metadata": {},
   "source": [
    "Now we need to add the matrix property `sig_s` in a similar way. The matrix properties have two extra value that identify the size of the matrix because protocol buffers cannot store matrices, only lists."
   ]
  },
  {
   "cell_type": "code",
   "execution_count": 18,
   "metadata": {
    "collapsed": false
   },
   "outputs": [],
   "source": [
    "sig_s_matrix = mat_proto.Material.MatrixProperty()\n",
    "sig_s_matrix.id = mat_proto.Material.SIGMA_S\n",
    "sig_s_matrix.value.extend(data[\"sig_s\"])"
   ]
  },
  {
   "cell_type": "code",
   "execution_count": 19,
   "metadata": {
    "collapsed": true
   },
   "outputs": [],
   "source": [
    "uo2_33.matrix_property.extend([sig_s_matrix])"
   ]
  },
  {
   "cell_type": "markdown",
   "metadata": {},
   "source": [
    "# Step 3: Save Protocol Buffer"
   ]
  },
  {
   "cell_type": "markdown",
   "metadata": {},
   "source": [
    "Now we will save the file as a serialized string."
   ]
  },
  {
   "cell_type": "code",
   "execution_count": 20,
   "metadata": {
    "collapsed": true
   },
   "outputs": [],
   "source": [
    "f = open('../lib/kaist/uo2_33', 'wb')\n",
    "f.write(uo2_33.SerializeToString())\n",
    "f.close()"
   ]
  },
  {
   "cell_type": "markdown",
   "metadata": {},
   "source": [
    "You can see that the protocol buffer is half the size of the xml file, and benefits from a native structuring without needing to write a parser."
   ]
  },
  {
   "cell_type": "code",
   "execution_count": 21,
   "metadata": {
    "collapsed": false
   },
   "outputs": [
    {
     "name": "stdout",
     "output_type": "stream",
     "text": [
      "-rw-r--r-- 1 ablank ablank  816 Jun 22 16:57 uo2_33\r\n"
     ]
    }
   ],
   "source": [
    "!ls -l ../lib/kaist/ | grep uo2_33"
   ]
  },
  {
   "cell_type": "code",
   "execution_count": 22,
   "metadata": {
    "collapsed": false
   },
   "outputs": [
    {
     "name": "stdout",
     "output_type": "stream",
     "text": [
      "-rw-r--r-- 1 ablank ablank 1577 Jun 22 16:27 uo2_33.xml\r\n"
     ]
    }
   ],
   "source": [
    "!ls -l ../lib/kaist/xml/ | grep uo2_33"
   ]
  },
  {
   "cell_type": "code",
   "execution_count": null,
   "metadata": {
    "collapsed": true
   },
   "outputs": [],
   "source": []
  }
 ],
 "metadata": {
  "kernelspec": {
   "display_name": "Python 3",
   "language": "python",
   "name": "python3"
  },
  "language_info": {
   "codemirror_mode": {
    "name": "ipython",
    "version": 3
   },
   "file_extension": ".py",
   "mimetype": "text/x-python",
   "name": "python",
   "nbconvert_exporter": "python",
   "pygments_lexer": "ipython3",
   "version": "3.6.4"
  }
 },
 "nbformat": 4,
 "nbformat_minor": 2
}
