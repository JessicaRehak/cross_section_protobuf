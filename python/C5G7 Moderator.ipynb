{
 "cells": [
  {
   "cell_type": "markdown",
   "metadata": {},
   "source": [
    "# Making a new material file"
   ]
  },
  {
   "cell_type": "markdown",
   "metadata": {},
   "source": [
    "**Optional**: build protocol buffer package"
   ]
  },
  {
   "cell_type": "code",
   "execution_count": 1,
   "metadata": {},
   "outputs": [],
   "source": [
    "!protoc --python_out=. -I=../proto ../proto/material.proto "
   ]
  },
  {
   "cell_type": "markdown",
   "metadata": {},
   "source": [
    "Import library. Note: if you get an error that says \"no module named google,\" make sure you have protobuf python library installed (try `pip install protobuf`)"
   ]
  },
  {
   "cell_type": "code",
   "execution_count": 1,
   "metadata": {},
   "outputs": [],
   "source": [
    "import material_pb2 as mat"
   ]
  },
  {
   "cell_type": "code",
   "execution_count": 2,
   "metadata": {},
   "outputs": [],
   "source": [
    "energy_groups = [2e7, 1.353e6, 9.119e3, 3.928, 0.6251, 0.1457, 0.0569, 0]"
   ]
  },
  {
   "cell_type": "markdown",
   "metadata": {},
   "source": [
    "MOX 4.3 w/o fuel cell"
   ]
  },
  {
   "cell_type": "code",
   "execution_count": 3,
   "metadata": {},
   "outputs": [],
   "source": [
    "moderator = mat.Material()\n",
    "moderator.full_name = \"Moderator\"\n",
    "moderator.id = \"mod\"\n",
    "moderator.abbreviation = \"mod\"\n",
    "moderator.is_fissionable = False\n",
    "moderator.number_of_groups = 7\n",
    "\n",
    "e_max = 1e6\n",
    "energy_groups = [e_max, 1e3, 1e2, 1e1, 0.625, 0.625/2, 0.625/4, 0]\n",
    "eg = mat.Material.VectorProperty()\n",
    "eg.id = mat.Material.ENERGY_GROUPS\n",
    "eg.value.extend(energy_groups)\n",
    "\n",
    "sigma_t = mat.Material.VectorProperty()\n",
    "sigma_t.id = mat.Material.SIGMA_T\n",
    "sigma_t.value.extend([1.26032e-1, 2.93160e-1, 2.84240e-1, 2.80960e-1, 3.34440e-1, 5.65640e-1, 1.17215])\n",
    "\n",
    "diff = mat.Material.VectorProperty()\n",
    "diff.id = mat.Material.DIFFUSION_COEFF\n",
    "diff.value.extend([1.0/(3.0 * val) for val in [1.26032e-1, 2.93160e-1, 2.84240e-1, 2.80960e-1, 3.34440e-1, 5.65640e-1, 1.17215]])\n",
    "\n",
    "sigma_s = mat.Material.MatrixProperty()\n",
    "sigma_s.id = mat.Material.SIGMA_S\n",
    "sigma_s.value.extend([6.61659e-2, 0, 0, 0, 0, 0, 0,\n",
    "                      5.907e-2, 2.40377e-1, 0, 0, 0, 0, 0,\n",
    "                      2.8334e-4, 5.2435e-2, 1.83297e-1, 0, 0, 0, 0,\n",
    "                      1.4622e-6, 2.499e-4, 9.2397e-2, 7.88511e-2, 3.7333e-5, 0, 0,\n",
    "                      2.0642e-8, 1.9239e-5, 6.9446e-3, 1.7014e-1, 9.97372e-2, 9.1726e-4, 0,\n",
    "                      0, 2.9875e-6, 1.0803e-3, 2.5881e-2, 2.0679e-1, 3.16765e-1, 4.9792e-2,\n",
    "                      0, 4.214e-7, 2.0567e-4, 4.9297e-3, 2.4478e-2, 2.3877e-1, 1.09912])\n",
    "                      \n",
    "moderator.vector_property.extend([eg, sigma_t, diff])\n",
    "moderator.matrix_property.extend([sigma_s])\n",
    "\n",
    "filename = '/home/josh/repos/bart/benchmarks/mox_2005/moderator.mat'\n",
    "f = open(filename, 'wb')\n",
    "f.write(moderator.SerializeToString())\n",
    "f.close()"
   ]
  },
  {
   "cell_type": "code",
   "execution_count": 5,
   "metadata": {},
   "outputs": [],
   "source": [
    "import numpy as np"
   ]
  },
  {
   "cell_type": "code",
   "execution_count": 15,
   "metadata": {},
   "outputs": [],
   "source": [
    "sigma_s = np.array([6.61659e-2, 0, 0, 0, 0, 0, 0,\n",
    "                      5.907e-2, 2.40377e-1, 0, 0, 0, 0, 0,\n",
    "                      2.8334e-4, 5.2435e-2, 1.83297e-1, 0, 0, 0, 0,\n",
    "                      1.4622e-6, 2.499e-4, 9.2397e-2, 7.88511e-2, 3.7333e-5, 0, 0,\n",
    "                      2.0642e-8, 1.9239e-5, 6.9446e-3, 1.7014e-1, 9.97372e-2, 9.1726e-4, 0,\n",
    "                      0, 2.9875e-6, 1.0803e-3, 2.5881e-2, 2.0679e-1, 3.16765e-1, 4.9792e-2,\n",
    "                      0, 4.214e-7, 2.0567e-4, 4.9297e-3, 2.4478e-2, 2.3877e-1, 1.09912])"
   ]
  },
  {
   "cell_type": "code",
   "execution_count": 10,
   "metadata": {},
   "outputs": [],
   "source": [
    "for group in range(7):\n",
    "    for group_in in range(group + 1, 7):\n",
    "        sigma_s[group*7 + group_in] *= 1.5"
   ]
  },
  {
   "cell_type": "code",
   "execution_count": 16,
   "metadata": {},
   "outputs": [
    {
     "data": {
      "text/plain": [
       "array([7.2782490e-02, 0.0000000e+00, 0.0000000e+00, 0.0000000e+00,\n",
       "       0.0000000e+00, 0.0000000e+00, 0.0000000e+00, 6.4977000e-02,\n",
       "       2.6441470e-01, 0.0000000e+00, 0.0000000e+00, 0.0000000e+00,\n",
       "       0.0000000e+00, 0.0000000e+00, 3.1167400e-04, 5.7678500e-02,\n",
       "       2.0162670e-01, 0.0000000e+00, 0.0000000e+00, 0.0000000e+00,\n",
       "       0.0000000e+00, 1.6084200e-06, 2.7489000e-04, 1.0163670e-01,\n",
       "       8.6736210e-02, 4.1066300e-05, 0.0000000e+00, 0.0000000e+00,\n",
       "       2.2706200e-08, 2.1162900e-05, 7.6390600e-03, 1.8715400e-01,\n",
       "       1.0971092e-01, 1.0089860e-03, 0.0000000e+00, 0.0000000e+00,\n",
       "       3.2862500e-06, 1.1883300e-03, 2.8469100e-02, 2.2746900e-01,\n",
       "       3.4844150e-01, 5.4771200e-02, 0.0000000e+00, 4.6354000e-07,\n",
       "       2.2623700e-04, 5.4226700e-03, 2.6925800e-02, 2.6264700e-01,\n",
       "       1.2090320e+00])"
      ]
     },
     "execution_count": 16,
     "metadata": {},
     "output_type": "execute_result"
    }
   ],
   "source": [
    "sigma_s * 1.1"
   ]
  },
  {
   "cell_type": "code",
   "execution_count": 17,
   "metadata": {},
   "outputs": [],
   "source": [
    "high_scattering_moderator = mat.Material()\n",
    "high_scattering_moderator.full_name = \"high_scattering_moderator\"\n",
    "high_scattering_moderator.id = \"mod\"\n",
    "high_scattering_moderator.abbreviation = \"mod\"\n",
    "high_scattering_moderator.is_fissionable = False\n",
    "high_scattering_moderator.number_of_groups = 7\n",
    "\n",
    "e_max = 1e6\n",
    "energy_groups = [e_max, 1e3, 1e2, 1e1, 0.625, 0.625/2, 0.625/4, 0]\n",
    "eg = mat.Material.VectorProperty()\n",
    "eg.id = mat.Material.ENERGY_GROUPS\n",
    "eg.value.extend(energy_groups)\n",
    "\n",
    "sigma_t = mat.Material.VectorProperty()\n",
    "sigma_t.id = mat.Material.SIGMA_T\n",
    "sigma_t.value.extend([1.26032e-1, 2.93160e-1, 2.84240e-1, 2.80960e-1, 3.34440e-1, 5.65640e-1, 1.17215])\n",
    "\n",
    "sigma_s = mat.Material.MatrixProperty()\n",
    "sigma_s.id = mat.Material.SIGMA_S\n",
    "sigma_s.value.extend([7.2782490e-02, 0.0000000e+00, 0.0000000e+00, 0.0000000e+00,\n",
    "       0.0000000e+00, 0.0000000e+00, 0.0000000e+00, 6.4977000e-02,\n",
    "       2.6441470e-01, 0.0000000e+00, 0.0000000e+00, 0.0000000e+00,\n",
    "       0.0000000e+00, 0.0000000e+00, 3.1167400e-04, 5.7678500e-02,\n",
    "       2.0162670e-01, 0.0000000e+00, 0.0000000e+00, 0.0000000e+00,\n",
    "       0.0000000e+00, 1.6084200e-06, 2.7489000e-04, 1.0163670e-01,\n",
    "       8.6736210e-02, 4.1066300e-05, 0.0000000e+00, 0.0000000e+00,\n",
    "       2.2706200e-08, 2.1162900e-05, 7.6390600e-03, 1.8715400e-01,\n",
    "       1.0971092e-01, 1.0089860e-03, 0.0000000e+00, 0.0000000e+00,\n",
    "       3.2862500e-06, 1.1883300e-03, 2.8469100e-02, 2.2746900e-01,\n",
    "       3.4844150e-01, 5.4771200e-02, 0.0000000e+00, 4.6354000e-07,\n",
    "       2.2623700e-04, 5.4226700e-03, 2.6925800e-02, 2.6264700e-01,\n",
    "       1.2090320e+00])\n",
    "                      \n",
    "high_scattering_moderator.vector_property.extend([eg, sigma_t])\n",
    "high_scattering_moderator.matrix_property.extend([sigma_s])\n",
    "\n",
    "filename = '/home/josh/repos/bart/benchmarks/mox_2005/high_scattering_moderator.mat'\n",
    "f = open(filename, 'wb')\n",
    "f.write(high_scattering_moderator.SerializeToString())\n",
    "f.close()"
   ]
  },
  {
   "cell_type": "code",
   "execution_count": null,
   "metadata": {},
   "outputs": [],
   "source": []
  }
 ],
 "metadata": {
  "kernelspec": {
   "display_name": "Python 3",
   "language": "python",
   "name": "python3"
  },
  "language_info": {
   "codemirror_mode": {
    "name": "ipython",
    "version": 3
   },
   "file_extension": ".py",
   "mimetype": "text/x-python",
   "name": "python",
   "nbconvert_exporter": "python",
   "pygments_lexer": "ipython3",
   "version": "3.7.4"
  }
 },
 "nbformat": 4,
 "nbformat_minor": 2
}
