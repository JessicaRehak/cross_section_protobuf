{
 "cells": [
  {
   "cell_type": "markdown",
   "metadata": {},
   "source": [
    "# Making a new material file"
   ]
  },
  {
   "cell_type": "markdown",
   "metadata": {},
   "source": [
    "**Optional**: build protocol buffer package"
   ]
  },
  {
   "cell_type": "code",
   "execution_count": 1,
   "metadata": {},
   "outputs": [],
   "source": [
    "!protoc --python_out=. -I=../proto ../proto/material.proto "
   ]
  },
  {
   "cell_type": "markdown",
   "metadata": {},
   "source": [
    "Import library. Note: if you get an error that says \"no module named google,\" make sure you have protobuf python library installed (try `pip install protobuf`)"
   ]
  },
  {
   "cell_type": "code",
   "execution_count": 7,
   "metadata": {},
   "outputs": [],
   "source": [
    "import material_pb2 as mat\n",
    "import numpy as np"
   ]
  },
  {
   "cell_type": "code",
   "execution_count": 5,
   "metadata": {},
   "outputs": [
    {
     "data": {
      "text/plain": [
       "[0.5879046044408233,\n",
       " 0.41175622106198806,\n",
       " 0.0003390568882681117,\n",
       " 1.1760892063119394e-07,\n",
       " 0.0,\n",
       " 0.0,\n",
       " 0.0]"
      ]
     },
     "execution_count": 5,
     "metadata": {},
     "output_type": "execute_result"
    }
   ],
   "source": [
    "sum = 0\n",
    "chi_s = [0.58791, 0.41176, 3.3906e-4, 1.1761e-7, 0, 0, 0]\n",
    "for chi in chi_s:\n",
    "    sum += chi\n",
    "[chi/sum for chi in chi_s]"
   ]
  },
  {
   "cell_type": "code",
   "execution_count": 8,
   "metadata": {},
   "outputs": [],
   "source": [
    "energy_groups = [2e7, 1.353e6, 9.119e3, 3.928, 0.6251, 0.1457, 0.0569, 0]\n",
    "chi_values = [0.59252, 0.40714, 0.0003193, 0, 0, 0, 0]\n",
    "chi_values = [val/np.sum(chi_values) for val in chi_values]"
   ]
  },
  {
   "cell_type": "markdown",
   "metadata": {},
   "source": [
    "KAIST Benchmark Problem 3A MOX 4.3 w/o fuel cell"
   ]
  },
  {
   "cell_type": "code",
   "execution_count": 9,
   "metadata": {},
   "outputs": [],
   "source": [
    "mox_43 = mat.Material()\n",
    "mox_43.full_name = \"KAIST MOX 4.3\"\n",
    "mox_43.id = \"mox_43\"\n",
    "mox_43.abbreviation = \"MOX 4.3\"\n",
    "mox_43.is_fissionable = True\n",
    "mox_43.number_of_groups = 7\n",
    "\n",
    "eg = mat.Material.VectorProperty()\n",
    "eg.id = mat.Material.ENERGY_GROUPS\n",
    "eg.value.extend(energy_groups)\n",
    "\n",
    "sigma_t = mat.Material.VectorProperty()\n",
    "sigma_t.id = mat.Material.SIGMA_T\n",
    "sigma_t.value.extend([1.1138e-1, 2.8877e-1, 4.5729e-1, 5.3274e-1, 9.0384e-1, 1.1005, 1.7947])\n",
    "\n",
    "nsf = mat.Material.VectorProperty()\n",
    "nsf.id = mat.Material.NU_SIG_F\n",
    "nsf.value.extend([1.2518e-2, 1.4658e-3, 1.6839e-2, 1.8197e-2, 4.1095e-1, 3.0865e-1, 4.1538e-1])\n",
    "    \n",
    "chi = mat.Material.VectorProperty()\n",
    "chi.id = mat.Material.CHI\n",
    "chi.value.extend(chi_values)\n",
    "\n",
    "sigma_s = mat.Material.MatrixProperty()\n",
    "sigma_s.id = mat.Material.SIGMA_S\n",
    "sigma_s.value.extend([1.2243e-1, 0, 0, 0, 0, 0, 0,\n",
    "                      6.6798e-2, 4.2992e-1, 0, 0, 0, 0, 0,\n",
    "                      2.876e-4, 5.167e-2, .74384, 0, 0, 0, 0,\n",
    "                      0, 0, 4.8864e-2, 5.5655e-1, 5.6439e-3, 0, 0,\n",
    "                      0, 0, 6.8762e-3, 2.0210e-1, 6.9483e-1, 1.4599e-1, 6.1529e-2,\n",
    "                      0, 0, 1.2444e-3, 2.7888e-2, 2.2239e-1, 8.2779e-2, 4.2474e-1,\n",
    "                      0, 0, 7.6824e-4, 1.2470e-2, 7.0212e-2, 2.6358e-1, 1.3572])\n",
    "\n",
    "mox_43.vector_property.extend([eg, sigma_t, nsf, chi])\n",
    "mox_43.matrix_property.extend([sigma_s])\n",
    "\n",
    "filename = '/home/josh/repos/bart/benchmarks/kaist/two_grid/mox_43.material'\n",
    "f = open(filename, 'wb')\n",
    "f.write(mox_43.SerializeToString())\n",
    "f.close()"
   ]
  },
  {
   "cell_type": "code",
   "execution_count": 6,
   "metadata": {},
   "outputs": [],
   "source": [
    "uo_2 = mat.Material()\n",
    "uo_2.full_name = \"C5G7 UO_2\"\n",
    "uo_2.id = \"c5g7_uo2\"\n",
    "uo_2.abbreviation = \"c567_uo2\"\n",
    "uo_2.is_fissionable = True\n",
    "uo_2.number_of_groups = 7\n",
    "\n",
    "e_max = 1e6\n",
    "energy_groups = [e_max, 1e3, 1e2, 1e1, 0.625, 0.625/2, 0.625/4, 0]\n",
    "eg = mat.Material.VectorProperty()\n",
    "eg.id = mat.Material.ENERGY_GROUPS\n",
    "eg.value.extend(energy_groups)\n",
    "\n",
    "sigma_t = mat.Material.VectorProperty()\n",
    "sigma_t.id = mat.Material.SIGMA_T\n",
    "sigma_t.value.extend([0.21245, 0.35547, 0.48554, 0.5594, 0.318030, 0.40146, 0.57061])\n",
    "\n",
    "nsf = mat.Material.VectorProperty()\n",
    "nsf.id = mat.Material.NU_SIG_F\n",
    "nsf.value.extend([0.721206e-3 * 2.78145, \n",
    "                  8.19301e-4 * 2.47443, \n",
    "                  6.4532e-3 * 2.43383,\n",
    "                 1.85648e-2 * 2.43380,\n",
    "                 1.78084e-2 * 2.43380,\n",
    "                 8.30348e-2 * 2.43380,\n",
    "                 2.16004e-1 * 2.43380])\n",
    "\n",
    "chi = mat.Material.VectorProperty()\n",
    "chi.id = mat.Material.CHI\n",
    "chi.value.extend([0.5879046044408233,\n",
    " 0.41175622106198806,\n",
    " 0.0003390568882681117,\n",
    " 1.1760892063119394e-07,\n",
    " 0.0,\n",
    " 0.0,\n",
    " 0.0])\n",
    "\n",
    "sigma_s = mat.Material.MatrixProperty()\n",
    "sigma_s.id = mat.Material.SIGMA_S\n",
    "sigma_s.value.extend([1.27537e-1, 0, 0, 0, 0, 0, 0,\n",
    "                      4.2378e-2, 3.24456e-1, 0, 0, 0, 0, 0,\n",
    "                      9.4374e-6, 1.6314e-3, .45094, 0, 0, 0, 0,\n",
    "                      5.5163e-9, 3.1427e-9, 2.6792e-3, .452565, 1.25250e-4, 0, 0,\n",
    "                      0, 0, 0, 5.5664e-3, 2.71401e-1, 1.2968e-3, 0,\n",
    "                      0, 0, 0, 0, 1.0255e-2, 2.65802e-1, 8.5458e-3, \n",
    "                      0, 0, 0, 0, 1.0021e-8, 1.6809e-2, 2.7308e-1])\n",
    "\n",
    "uo_2.vector_property.extend([eg, sigma_t, nsf, chi])\n",
    "uo_2.matrix_property.extend([sigma_s])\n",
    "\n",
    "filename = '/home/josh/repos/bart/benchmarks/c5g7/uo2.material'\n",
    "f = open(filename, 'wb')\n",
    "f.write(uo_2.SerializeToString())\n",
    "f.close()"
   ]
  },
  {
   "cell_type": "code",
   "execution_count": 8,
   "metadata": {},
   "outputs": [],
   "source": [
    "moderator = mat.Material()\n",
    "moderator.full_name = \"C5G7 moderator\"\n",
    "moderator.id = \"c5g7_mod\"\n",
    "moderator.abbreviation = \"c567_mod\"\n",
    "moderator.is_fissionable = False\n",
    "moderator.number_of_groups = 7\n",
    "\n",
    "e_max = 1e6\n",
    "energy_groups = [e_max, 1e3, 1e2, 1e1, 0.625, 0.625/2, 0.625/4, 0]\n",
    "eg = mat.Material.VectorProperty()\n",
    "eg.id = mat.Material.ENERGY_GROUPS\n",
    "eg.value.extend(energy_groups)\n",
    "\n",
    "sigma_t = mat.Material.VectorProperty()\n",
    "sigma_t.id = mat.Material.SIGMA_T\n",
    "sigma_t.value.extend([0.23, 0.77646, 1.4842, 1.5052, 1.5592, 2.0254, 3.3057])\n",
    "\n",
    "sigma_s = mat.Material.MatrixProperty()\n",
    "sigma_s.id = mat.Material.SIGMA_S\n",
    "sigma_s.value.extend([4.44777e-2, 0, 0, 0, 0, 0, 0,\n",
    "                      1.134e-1, 2.82334e-1, 0, 0, 0, 0, 0, \n",
    "                      7.2347e-4, 1.2994e-1, 3.45256e-1, 0, 0, 0, 0,\n",
    "                      3.7499e-6, 6.234e-4, 2.2457e-1, 9.10284e-2, 7.1437e-5, 0, 0,\n",
    "                      5.3184e-8, 4.8002e-5, 1.6999e-2, 4.1551e-1, 1.39138e-1, 2.2157e-3, 0,\n",
    "                      0, 7.4486e-6, 2.6443e-3, 6.3732e-2, 5.1182e-1, 6.99913e-1, 1.3244e-1,\n",
    "                      0, 1.0455e-6, 5.0344e-4, 1.2139e-2, 6.1229e-2, 5.3932e-1, 2.4807])\n",
    "                      \n",
    "    \n",
    "moderator.vector_property.extend([eg, sigma_t, nsf, chi])\n",
    "moderator.matrix_property.extend([sigma_s])\n",
    "\n",
    "filename = '/home/josh/repos/bart/benchmarks/c5g7/moderator.material'\n",
    "f = open(filename, 'wb')\n",
    "f.write(moderator.SerializeToString())\n",
    "f.close()"
   ]
  },
  {
   "cell_type": "code",
   "execution_count": 1,
   "metadata": {},
   "outputs": [],
   "source": [
    "import numpy as np"
   ]
  },
  {
   "cell_type": "code",
   "execution_count": 4,
   "metadata": {},
   "outputs": [],
   "source": [
    "sigma_t = np.array([0.21245, 0.35547, 0.48554, 0.5594, 0.318030, 0.40146, 0.57061])\n",
    "sigma_s = np.array([[1.27537e-1, 0, 0, 0, 0, 0, 0],\n",
    "                      [4.2378e-2, 3.24456e-1, 0, 0, 0, 0, 0],\n",
    "                      [9.4374e-6, 1.6314e-3, .45094, 0, 0, 0, 0],\n",
    "                      [5.5163e-9, 3.1427e-9, 2.6792e-3, .452565, 1.25250e-4, 0, 0],\n",
    "                      [0, 0, 0, 5.5664e-3, 2.71401e-1, 1.2968e-3, 0],\n",
    "                      [0, 0, 0, 0, 1.0255e-2, 2.65802e-1, 8.5458e-3],\n",
    "                      [0, 0, 0, 0, 1.0021e-8, 1.6809e-2, 2.7308e-1]])"
   ]
  },
  {
   "cell_type": "code",
   "execution_count": 5,
   "metadata": {},
   "outputs": [
    {
     "data": {
      "text/plain": [
       "array([[1.27537e-01, 0.00000e+00, 0.00000e+00, 0.00000e+00, 0.00000e+00,\n",
       "        0.00000e+00, 0.00000e+00],\n",
       "       [4.23780e-02, 3.24456e-01, 0.00000e+00, 0.00000e+00, 0.00000e+00,\n",
       "        0.00000e+00, 0.00000e+00],\n",
       "       [9.43740e-06, 1.63140e-03, 4.50940e-01, 0.00000e+00, 0.00000e+00,\n",
       "        0.00000e+00, 0.00000e+00],\n",
       "       [5.51630e-09, 3.14270e-09, 2.67920e-03, 4.52565e-01, 1.25250e-04,\n",
       "        0.00000e+00, 0.00000e+00],\n",
       "       [0.00000e+00, 0.00000e+00, 0.00000e+00, 5.56640e-03, 2.71401e-01,\n",
       "        1.29680e-03, 0.00000e+00],\n",
       "       [0.00000e+00, 0.00000e+00, 0.00000e+00, 0.00000e+00, 1.02550e-02,\n",
       "        2.65802e-01, 8.54580e-03],\n",
       "       [0.00000e+00, 0.00000e+00, 0.00000e+00, 0.00000e+00, 1.00210e-08,\n",
       "        1.68090e-02, 2.73080e-01]])"
      ]
     },
     "execution_count": 5,
     "metadata": {},
     "output_type": "execute_result"
    }
   ],
   "source": []
  },
  {
   "cell_type": "code",
   "execution_count": 21,
   "metadata": {},
   "outputs": [],
   "source": [
    "T = np.diag(sigma_t)\n",
    "SL = np.tril(sigma_s, -1)\n",
    "SU = np.triu(sigma_s, 1)\n",
    "SD = np.diag(np.diag(sigma_s))\n",
    "A = np.matmul(np.linalg.inv(T - SL - SD), SU)\n",
    "eig_values, eig_vectors = np.linalg.eig(A)\n",
    "idx = np.argmax(eig_values)\n",
    "eigenfunction = eig_vectors[:,idx]\n",
    "eigenfunction = eigenfunction/np.sum(eigenfunction)"
   ]
  },
  {
   "cell_type": "code",
   "execution_count": 22,
   "metadata": {},
   "outputs": [
    {
     "name": "stdout",
     "output_type": "stream",
     "text": [
      "[-0.         -0.         -0.          0.14480098  0.70575421  0.14145336\n",
      "  0.00799145]\n"
     ]
    }
   ],
   "source": [
    "print(eigenfunction\n",
    "    )"
   ]
  },
  {
   "cell_type": "code",
   "execution_count": 23,
   "metadata": {},
   "outputs": [
    {
     "data": {
      "text/plain": [
       "array([[0.21245, 0.     , 0.     , 0.     , 0.     , 0.     , 0.     ],\n",
       "       [0.     , 0.35547, 0.     , 0.     , 0.     , 0.     , 0.     ],\n",
       "       [0.     , 0.     , 0.48554, 0.     , 0.     , 0.     , 0.     ],\n",
       "       [0.     , 0.     , 0.     , 0.5594 , 0.     , 0.     , 0.     ],\n",
       "       [0.     , 0.     , 0.     , 0.     , 0.31803, 0.     , 0.     ],\n",
       "       [0.     , 0.     , 0.     , 0.     , 0.     , 0.40146, 0.     ],\n",
       "       [0.     , 0.     , 0.     , 0.     , 0.     , 0.     , 0.57061]])"
      ]
     },
     "execution_count": 23,
     "metadata": {},
     "output_type": "execute_result"
    }
   ],
   "source": [
    "T"
   ]
  },
  {
   "cell_type": "code",
   "execution_count": 24,
   "metadata": {},
   "outputs": [
    {
     "data": {
      "text/plain": [
       "array([[ 8.49130e-02,  0.00000e+00,  0.00000e+00,  0.00000e+00,\n",
       "         0.00000e+00,  0.00000e+00,  0.00000e+00],\n",
       "       [-4.23780e-02,  3.10140e-02,  0.00000e+00,  0.00000e+00,\n",
       "         0.00000e+00,  0.00000e+00,  0.00000e+00],\n",
       "       [-9.43740e-06, -1.63140e-03,  3.46000e-02,  0.00000e+00,\n",
       "         0.00000e+00,  0.00000e+00,  0.00000e+00],\n",
       "       [-5.51630e-09, -3.14270e-09, -2.67920e-03,  1.06835e-01,\n",
       "         0.00000e+00,  0.00000e+00,  0.00000e+00],\n",
       "       [ 0.00000e+00,  0.00000e+00,  0.00000e+00, -5.56640e-03,\n",
       "         4.66290e-02,  0.00000e+00,  0.00000e+00],\n",
       "       [ 0.00000e+00,  0.00000e+00,  0.00000e+00,  0.00000e+00,\n",
       "        -1.02550e-02,  1.35658e-01,  0.00000e+00],\n",
       "       [ 0.00000e+00,  0.00000e+00,  0.00000e+00,  0.00000e+00,\n",
       "        -1.00210e-08, -1.68090e-02,  2.97530e-01]])"
      ]
     },
     "execution_count": 24,
     "metadata": {},
     "output_type": "execute_result"
    }
   ],
   "source": [
    "T - SL - SD"
   ]
  },
  {
   "cell_type": "code",
   "execution_count": 25,
   "metadata": {},
   "outputs": [
    {
     "data": {
      "text/plain": [
       "array([[ 1.17767597e+01,  0.00000000e+00,  0.00000000e+00,\n",
       "         0.00000000e+00,  0.00000000e+00,  0.00000000e+00,\n",
       "         0.00000000e+00],\n",
       "       [ 1.60919431e+01,  3.22435029e+01,  0.00000000e+00,\n",
       "         0.00000000e+00,  0.00000000e+00,  0.00000000e+00,\n",
       "         0.00000000e+00],\n",
       "       [ 7.61951966e-01,  1.52029048e+00,  2.89017341e+01,\n",
       "         0.00000000e+00,  0.00000000e+00,  0.00000000e+00,\n",
       "         0.00000000e+00],\n",
       "       [ 1.91092549e-02,  3.81266775e-02,  7.24795488e-01,\n",
       "         9.36022839e+00,  0.00000000e+00,  0.00000000e+00,\n",
       "         0.00000000e+00],\n",
       "       [ 2.28119317e-03,  4.55142374e-03,  8.65234426e-02,\n",
       "         1.11738994e+00,  2.14458813e+01,  0.00000000e+00,\n",
       "         0.00000000e+00],\n",
       "       [ 1.72445679e-04,  3.44062646e-04,  6.54069723e-03,\n",
       "         8.44685444e-02,  1.62119088e+00,  7.37147828e+00,\n",
       "        -0.00000000e+00],\n",
       "       [ 9.74242020e-06,  1.94380218e-05,  3.69520542e-04,\n",
       "         4.77210016e-03,  9.15901337e-02,  4.16452722e-01,\n",
       "         3.36100561e+00]])"
      ]
     },
     "execution_count": 25,
     "metadata": {},
     "output_type": "execute_result"
    }
   ],
   "source": [
    "np.linalg.inv(T - SL - SD)"
   ]
  },
  {
   "cell_type": "code",
   "execution_count": 26,
   "metadata": {},
   "outputs": [
    {
     "data": {
      "text/plain": [
       "array([[0.00000000e+00, 0.00000000e+00, 0.00000000e+00, 0.00000000e+00,\n",
       "        0.00000000e+00, 0.00000000e+00, 0.00000000e+00],\n",
       "       [0.00000000e+00, 0.00000000e+00, 0.00000000e+00, 0.00000000e+00,\n",
       "        0.00000000e+00, 0.00000000e+00, 0.00000000e+00],\n",
       "       [0.00000000e+00, 0.00000000e+00, 0.00000000e+00, 0.00000000e+00,\n",
       "        0.00000000e+00, 0.00000000e+00, 0.00000000e+00],\n",
       "       [0.00000000e+00, 0.00000000e+00, 0.00000000e+00, 0.00000000e+00,\n",
       "        1.17236861e-03, 0.00000000e+00, 0.00000000e+00],\n",
       "       [0.00000000e+00, 0.00000000e+00, 0.00000000e+00, 0.00000000e+00,\n",
       "        1.39953089e-04, 2.78110189e-02, 0.00000000e+00],\n",
       "       [0.00000000e+00, 0.00000000e+00, 0.00000000e+00, 0.00000000e+00,\n",
       "        1.05796852e-05, 2.10236034e-03, 6.29951791e-02],\n",
       "       [0.00000000e+00, 0.00000000e+00, 0.00000000e+00, 0.00000000e+00,\n",
       "        5.97705545e-07, 1.18774085e-04, 3.55892167e-03]])"
      ]
     },
     "execution_count": 26,
     "metadata": {},
     "output_type": "execute_result"
    }
   ],
   "source": [
    "A"
   ]
  },
  {
   "cell_type": "code",
   "execution_count": null,
   "metadata": {},
   "outputs": [],
   "source": []
  }
 ],
 "metadata": {
  "kernelspec": {
   "display_name": "Python 3",
   "language": "python",
   "name": "python3"
  },
  "language_info": {
   "codemirror_mode": {
    "name": "ipython",
    "version": 3
   },
   "file_extension": ".py",
   "mimetype": "text/x-python",
   "name": "python",
   "nbconvert_exporter": "python",
   "pygments_lexer": "ipython3",
   "version": "3.7.4"
  }
 },
 "nbformat": 4,
 "nbformat_minor": 2
}
